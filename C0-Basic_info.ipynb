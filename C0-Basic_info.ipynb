{
 "cells": [
  {
   "attachments": {
    "image-3.png": {
     "image/png": "[encoded data removed]"
    },
    "image-4.png": {
     "image/png": "[encoded data removed]"
    },
    "image.png": {
     "image/png": "[encoded data removed]"
    }
   },
   "cell_type": "markdown",
   "metadata": {},
   "source": [
    "<p style=\"font-size:small; color:gray;\"> Author: 鄭永誠, Year: 2024 </p>\n",
    "\n",
    "# C0-前置作業與基礎工具\n",
    "-----------------------\n",
    "## 建立虛擬環境\n",
    "養成好習慣，建立虛擬環境去避免套件版本衝突和一堆麻煩的問題\n",
    "\n",
    "### 1. 安裝 Python 擴展：\n",
    "\n",
    "由於下面範例用到ipynb格式檔案，若要在vscode上使用我的code進行操作，要確保你已經安裝了 Python 擴展和 Jupyter 擴展。  \n",
    "在 VS Code 的左側「延伸模組」中搜尋並安裝 \"Python\" 和 \"Jupyter\" \n",
    "\n",
    "**你若在vscode上開啟ipynb檔，理論上可以直接透過按右上「選取核心」（Kernel Selector）  \n",
    "直接選擇要用的 Python 虛擬環境或內核，省略以下指令操作步驟**\n",
    "\n",
    "![image.png](attachment:image.png)  \n",
    "-\n",
    "![image-4.png](attachment:image-4.png) \n",
    "-\n",
    "![image-3.png](attachment:image-3.png)  \n",
    "-\n",
    "### 2. 開啟終端機：\n",
    "\n",
    "在 VS Code 中，打開Termina (終端機)\n",
    "- 方法1. 上方點選Terminal(終端機) > New Terminal (新增終端) 來打開它。  \n",
    "- 方法2. 快捷鍵  ctrl + \\` (數字1左邊那個)；mac 則是 Cmd + \\`  \n",
    "\n",
    "### 3. 創建虛擬環境：\n",
    "\n",
    "在終端機中，在你的目標專案目錄下，然後運行以下命令來創建虛擬環境：  \n",
    "```\n",
    "python -m venv llm_venv\n",
    "```\n",
    "(用python命令; -m 模組執行 venv 模組；建立的模組名稱叫做llm_venv)  \n",
    "\n",
    "這會在你的專案目錄中創建一個名為 venv 的虛擬環境 (你可以看到資料夾)。  \n",
    "你可以將 llm_venv 替換為任何你喜歡的名稱。\n",
    "\n",
    "### 4. 啟用虛擬環境：\n",
    "\n",
    "啟用虛擬環境的命令取決於你使用的操作系統：\n",
    "\n",
    "Windows:  \n",
    "\n",
    "```\n",
    ".\\venv\\Scripts\\Activate\n",
    "```\n",
    "\n",
    "macOS/Linux:  \n",
    "\n",
    "```\n",
    "source venv/bin/activate\n",
    "```\n",
    "\n",
    "如果要退出虛擬環境，在終端機上輸入  \n",
    "```\n",
    "deactivate\n",
    "```\n",
    "\n",
    "\n",
    "### 5. 安裝 Jupyter：\n",
    "\n",
    "在虛擬環境中安裝 Jupyter：  \n",
    "\n",
    "```\n",
    "pip install jupyter\n",
    "```\n",
    "\n",
    "安裝 IPython kernel：    \n",
    "```\n",
    "pip install ipykernel\n",
    "```   \n",
    "創建虛擬環境的 Jupyter kernel：  \n",
    "\n",
    "```\n",
    "python -m ipykernel install --user --name=venv --display-name \"Python (llm_venv)\"\n",
    "```\n",
    "這裡的 --name 可以是任何你喜歡的名稱，--display-name 是在 Jupyter Notebook 中顯示的名稱。  \n",
    "\n",
    "\n",
    "### 6. 選擇虛擬環境作為 Jupyter Notebook 的內核：\n",
    "在 VS Code 中打開你的 Jupyter Notebook 文件（.ipynb）。  \n",
    "點擊右上角的內核選擇器（Kernel Selector），  \n",
    "選擇你剛剛創建的內核（例如 “Python (venv)”）\n"
   ]
  },
  {
   "cell_type": "markdown",
   "metadata": {},
   "source": [
    "--------------\n",
    "## 後面會用到的一些小套件/程式補充\n",
    "### # textwrap: 用來處理文字的套件"
   ]
  },
  {
   "cell_type": "code",
   "execution_count": 1,
   "metadata": {},
   "outputs": [
    {
     "name": "stdout",
     "output_type": "stream",
     "text": [
      "原始文本: \n",
      " \n",
      "    This is an example of text that will be wrapped using the textwrap module in Python.\n",
      "    It demonstrates the basic usage of wrapping text into multiple lines of a specified width.\n",
      "\n",
      "Wrapped lines 效果:\n",
      "     This is an example of text that will be\n",
      "wrapped using the textwrap module in Python.\n",
      "It demonstrates the basic usage of wrapping text\n",
      "into multiple lines of a specified width.\n",
      "\n",
      "fill 效果: \n",
      "      This is an example of text that will be\n",
      "wrapped using the textwrap module in Python.\n",
      "It demonstrates the basic usage of wrapping text\n",
      "into multiple lines of a specified width.\n",
      "\n",
      "shorten 效果: \n",
      "      This is an example of text that will be\n",
      "wrapped using the textwrap module in Python.\n",
      "It demonstrates the basic usage of wrapping text\n",
      "into multiple lines of a specified width.\n",
      "\n",
      "Dedented 效果: \n",
      " \n",
      "This is an example of text that will be wrapped using the textwrap module in Python.\n",
      "It demonstrates the basic usage of wrapping text into multiple lines of a specified width.\n",
      "\n"
     ]
    }
   ],
   "source": [
    "\"\"\" textwrap函式範例 \"\"\"\n",
    "\n",
    "import textwrap\n",
    "\n",
    "# 原始文本\n",
    "sample_text = \"\"\"\n",
    "    This is an example of text that will be wrapped using the textwrap module in Python.\n",
    "    It demonstrates the basic usage of wrapping text into multiple lines of a specified width.\n",
    "\"\"\"\n",
    "\n",
    "print(\"原始文本: \\n\", sample_text)\n",
    "\n",
    "# 使用 wrap 函數 (將 text 包裝到指定的寬度)\n",
    "wrapped_lines = textwrap.wrap(sample_text, width=50)\n",
    "print(\"Wrapped lines 效果:\")\n",
    "for line in wrapped_lines:\n",
    "    print(line)\n",
    "    \n",
    "# 使用 fill 函數 (將 text 填充到指定的寬度)\n",
    "filled_text = textwrap.fill(sample_text, width=50)\n",
    "print(\"\\nfill 效果: \\n\", filled_text)\n",
    "\n",
    "# 使用 shorten 函數 (將 text 縮短到指定的長度)\n",
    "shortened_text = textwrap.shorten(sample_text, width=50)\n",
    "print(\"\\nshorten 效果: \\n\", filled_text)\n",
    "\n",
    "# 使用 dedent 函數 (移除 text 中每一行的任何相同前缀空白符)\n",
    "dedented_text = textwrap.dedent(sample_text)\n",
    "print(\"\\nDedented 效果: \\n\", dedented_text)"
   ]
  },
  {
   "cell_type": "markdown",
   "metadata": {},
   "source": [
    "### # os.getenv: 用來讀取 .env 檔案\n",
    "我把 .env 檔案放在專案的根目錄，  \n",
    "然後使用 python-dotenv 這個套件來讀取 .env 檔案  \n",
    "(我把後面範例的API金鑰藏在裡面了!!!)      \n",
    "\n",
    "所以實際操作時，  \n",
    "請自己在同路徑下建立一個.env檔 (直接取名叫.env即可)  \n",
    "裡面放上你申請到的金鑰資訊  \n",
    "放心，我都是使用可以免費取的API進行範例\n"
   ]
  },
  {
   "cell_type": "code",
   "execution_count": 1,
   "metadata": {},
   "outputs": [
    {
     "name": "stdout",
     "output_type": "stream",
     "text": [
      "此時你生成一個.env檔包含以下資訊:\n",
      "HAHA_API_KEY='ABC123'\n"
     ]
    }
   ],
   "source": [
    "\"\"\" 僅用code示意建立.env檔，實際上直接透過UI建立即可 \"\"\"\n",
    "# 建立檔案路徑名稱\n",
    "env_file_path = '.env'\n",
    "\n",
    "# 定義檔案裡鑰新增的資訊\n",
    "env_content = \"HAHA_API_KEY='ABC123'\"\n",
    "\n",
    "# Write the content to the .env file\n",
    "with open(env_file_path, 'w') as file:\n",
    "    file.write(env_content)\n",
    "\n",
    "print(f\"此時你生成一個.env檔包含以下資訊:\\n{env_content}\")"
   ]
  },
  {
   "cell_type": "code",
   "execution_count": 3,
   "metadata": {},
   "outputs": [
    {
     "name": "stdout",
     "output_type": "stream",
     "text": [
      "ABC123\n"
     ]
    }
   ],
   "source": [
    "\"\"\" 如何在程式中使用.env檔案 \"\"\"\n",
    "import os\n",
    "\n",
    "# 讀取.env檔案並取得HAHA_API_KEY內容\n",
    "api_key=os.getenv('HAHA_API_KEY')\n",
    "\n",
    "# 嘗試印出HAHA_API_KEY (要重新啟動Kernal才能讀取到)\n",
    "print(api_key)"
   ]
  },
  {
   "cell_type": "code",
   "execution_count": 1,
   "metadata": {},
   "outputs": [],
   "source": [
    "# 偷偷放幾個自己要用的程式碼，別理會\n",
    "!pip freeze > requirements.txt"
   ]
  }
 ],
 "metadata": {
  "kernelspec": {
   "display_name": "Python 3",
   "language": "python",
   "name": "python3"
  },
  "language_info": {
   "codemirror_mode": {
    "name": "ipython",
    "version": 3
   },
   "file_extension": ".py",
   "mimetype": "text/x-python",
   "name": "python",
   "nbconvert_exporter": "python",
   "pygments_lexer": "ipython3",
   "version": "3.12.4"
  }
 },
 "nbformat": 4,
 "nbformat_minor": 2
}
