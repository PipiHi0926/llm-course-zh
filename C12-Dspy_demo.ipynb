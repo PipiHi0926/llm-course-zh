{
 "cells": [
  {
   "cell_type": "markdown",
   "id": "d1ac1a3e",
   "metadata": {},
   "source": [
    "<p style=\"font-size:small; color:gray;\"> Author: 鄭永誠, Year: 2024 </p>\n",
    "\n",
    "# Dspy框架使用範例\n",
    "----------\n",
    "### 幾個常見module範例\n",
    "- **dspy.Predict**：處理輸入和輸出欄位，生成指令，並為指定的 `signature` 創建模板。\n",
    "- **dspy.ChainOfThought**：繼承了 `Predict` 模組，並增加了「Chain of Thought」處理的功能。\n",
    "- **dspy.ChainOfThoughtWithHint**：繼承了 `Predict` 模組，並增強了 `ChainOfThought` 模組，增加了提供推理提示的選項。\n",
    "- **dspy.MultiChainComparison**：繼承了 `Predict` 模組，並增加了多鏈比較的功能。\n",
    "- **dspy.Retrieve**：從檢索器模組檢索段落。\n",
    "- **dspy.ReAct**：旨在組成思想、行動和觀察的交錯步驟。\n",
    "\n"
   ]
  },
  {
   "cell_type": "code",
   "execution_count": 1,
   "id": "cb58feeb-88c6-4c75-8f33-b0216c47c038",
   "metadata": {},
   "outputs": [
    {
     "name": "stdout",
     "output_type": "stream",
     "text": [
      "Defaulting to user installation because normal site-packages is not writeable\n",
      "Collecting dspy-ai\n",
      "  Downloading dspy_ai-2.4.13-py3-none-any.whl.metadata (39 kB)\n",
      "Collecting backoff (from dspy-ai)\n",
      "  Using cached backoff-2.2.1-py3-none-any.whl.metadata (14 kB)\n",
      "Requirement already satisfied: datasets in c:\\users\\pipihi\\appdata\\local\\packages\\pythonsoftwarefoundation.python.3.12_qbz5n2kfra8p0\\localcache\\local-packages\\python312\\site-packages (from dspy-ai) (2.19.1)\n",
      "Requirement already satisfied: joblib~=1.3 in c:\\users\\pipihi\\appdata\\local\\packages\\pythonsoftwarefoundation.python.3.12_qbz5n2kfra8p0\\localcache\\local-packages\\python312\\site-packages (from dspy-ai) (1.4.2)\n",
      "Requirement already satisfied: openai<2.0.0,>=0.28.1 in c:\\users\\pipihi\\appdata\\local\\packages\\pythonsoftwarefoundation.python.3.12_qbz5n2kfra8p0\\localcache\\local-packages\\python312\\site-packages (from dspy-ai) (1.40.2)\n",
      "Collecting optuna (from dspy-ai)\n",
      "  Downloading optuna-3.6.1-py3-none-any.whl.metadata (17 kB)\n",
      "Requirement already satisfied: pandas in c:\\users\\pipihi\\appdata\\local\\packages\\pythonsoftwarefoundation.python.3.12_qbz5n2kfra8p0\\localcache\\local-packages\\python312\\site-packages (from dspy-ai) (2.2.2)\n",
      "Requirement already satisfied: pydantic~=2.0 in c:\\users\\pipihi\\appdata\\local\\packages\\pythonsoftwarefoundation.python.3.12_qbz5n2kfra8p0\\localcache\\local-packages\\python312\\site-packages (from dspy-ai) (2.8.2)\n",
      "Requirement already satisfied: regex in c:\\users\\pipihi\\appdata\\local\\packages\\pythonsoftwarefoundation.python.3.12_qbz5n2kfra8p0\\localcache\\local-packages\\python312\\site-packages (from dspy-ai) (2024.4.28)\n",
      "Requirement already satisfied: requests in c:\\users\\pipihi\\appdata\\local\\packages\\pythonsoftwarefoundation.python.3.12_qbz5n2kfra8p0\\localcache\\local-packages\\python312\\site-packages (from dspy-ai) (2.31.0)\n",
      "Collecting structlog (from dspy-ai)\n",
      "  Downloading structlog-24.4.0-py3-none-any.whl.metadata (7.3 kB)\n",
      "Requirement already satisfied: tqdm in c:\\users\\pipihi\\appdata\\local\\packages\\pythonsoftwarefoundation.python.3.12_qbz5n2kfra8p0\\localcache\\local-packages\\python312\\site-packages (from dspy-ai) (4.66.4)\n",
      "Requirement already satisfied: ujson in c:\\users\\pipihi\\appdata\\local\\packages\\pythonsoftwarefoundation.python.3.12_qbz5n2kfra8p0\\localcache\\local-packages\\python312\\site-packages (from dspy-ai) (5.9.0)\n",
      "Requirement already satisfied: anyio<5,>=3.5.0 in c:\\users\\pipihi\\appdata\\local\\packages\\pythonsoftwarefoundation.python.3.12_qbz5n2kfra8p0\\localcache\\local-packages\\python312\\site-packages (from openai<2.0.0,>=0.28.1->dspy-ai) (4.3.0)\n",
      "Requirement already satisfied: distro<2,>=1.7.0 in c:\\users\\pipihi\\appdata\\local\\packages\\pythonsoftwarefoundation.python.3.12_qbz5n2kfra8p0\\localcache\\local-packages\\python312\\site-packages (from openai<2.0.0,>=0.28.1->dspy-ai) (1.9.0)\n",
      "Requirement already satisfied: httpx<1,>=0.23.0 in c:\\users\\pipihi\\appdata\\local\\packages\\pythonsoftwarefoundation.python.3.12_qbz5n2kfra8p0\\localcache\\local-packages\\python312\\site-packages (from openai<2.0.0,>=0.28.1->dspy-ai) (0.27.0)\n",
      "Requirement already satisfied: jiter<1,>=0.4.0 in c:\\users\\pipihi\\appdata\\local\\packages\\pythonsoftwarefoundation.python.3.12_qbz5n2kfra8p0\\localcache\\local-packages\\python312\\site-packages (from openai<2.0.0,>=0.28.1->dspy-ai) (0.5.0)\n",
      "Requirement already satisfied: sniffio in c:\\users\\pipihi\\appdata\\local\\packages\\pythonsoftwarefoundation.python.3.12_qbz5n2kfra8p0\\localcache\\local-packages\\python312\\site-packages (from openai<2.0.0,>=0.28.1->dspy-ai) (1.3.1)\n",
      "Requirement already satisfied: typing-extensions<5,>=4.11 in c:\\users\\pipihi\\appdata\\local\\packages\\pythonsoftwarefoundation.python.3.12_qbz5n2kfra8p0\\localcache\\local-packages\\python312\\site-packages (from openai<2.0.0,>=0.28.1->dspy-ai) (4.11.0)\n",
      "Requirement already satisfied: annotated-types>=0.4.0 in c:\\users\\pipihi\\appdata\\local\\packages\\pythonsoftwarefoundation.python.3.12_qbz5n2kfra8p0\\localcache\\local-packages\\python312\\site-packages (from pydantic~=2.0->dspy-ai) (0.6.0)\n",
      "Requirement already satisfied: pydantic-core==2.20.1 in c:\\users\\pipihi\\appdata\\local\\packages\\pythonsoftwarefoundation.python.3.12_qbz5n2kfra8p0\\localcache\\local-packages\\python312\\site-packages (from pydantic~=2.0->dspy-ai) (2.20.1)\n",
      "Requirement already satisfied: colorama in c:\\users\\pipihi\\appdata\\local\\packages\\pythonsoftwarefoundation.python.3.12_qbz5n2kfra8p0\\localcache\\local-packages\\python312\\site-packages (from tqdm->dspy-ai) (0.4.6)\n",
      "Requirement already satisfied: filelock in c:\\users\\pipihi\\appdata\\local\\packages\\pythonsoftwarefoundation.python.3.12_qbz5n2kfra8p0\\localcache\\local-packages\\python312\\site-packages (from datasets->dspy-ai) (3.14.0)\n",
      "Requirement already satisfied: numpy>=1.17 in c:\\users\\pipihi\\appdata\\local\\packages\\pythonsoftwarefoundation.python.3.12_qbz5n2kfra8p0\\localcache\\local-packages\\python312\\site-packages (from datasets->dspy-ai) (1.26.4)\n",
      "Requirement already satisfied: pyarrow>=12.0.0 in c:\\users\\pipihi\\appdata\\local\\packages\\pythonsoftwarefoundation.python.3.12_qbz5n2kfra8p0\\localcache\\local-packages\\python312\\site-packages (from datasets->dspy-ai) (16.0.0)\n",
      "Requirement already satisfied: pyarrow-hotfix in c:\\users\\pipihi\\appdata\\local\\packages\\pythonsoftwarefoundation.python.3.12_qbz5n2kfra8p0\\localcache\\local-packages\\python312\\site-packages (from datasets->dspy-ai) (0.6)\n",
      "Requirement already satisfied: dill<0.3.9,>=0.3.0 in c:\\users\\pipihi\\appdata\\local\\packages\\pythonsoftwarefoundation.python.3.12_qbz5n2kfra8p0\\localcache\\local-packages\\python312\\site-packages (from datasets->dspy-ai) (0.3.8)\n",
      "Requirement already satisfied: xxhash in c:\\users\\pipihi\\appdata\\local\\packages\\pythonsoftwarefoundation.python.3.12_qbz5n2kfra8p0\\localcache\\local-packages\\python312\\site-packages (from datasets->dspy-ai) (3.4.1)\n",
      "Requirement already satisfied: multiprocess in c:\\users\\pipihi\\appdata\\local\\packages\\pythonsoftwarefoundation.python.3.12_qbz5n2kfra8p0\\localcache\\local-packages\\python312\\site-packages (from datasets->dspy-ai) (0.70.16)\n",
      "Requirement already satisfied: fsspec<=2024.3.1,>=2023.1.0 in c:\\users\\pipihi\\appdata\\local\\packages\\pythonsoftwarefoundation.python.3.12_qbz5n2kfra8p0\\localcache\\local-packages\\python312\\site-packages (from fsspec[http]<=2024.3.1,>=2023.1.0->datasets->dspy-ai) (2024.3.1)\n",
      "Requirement already satisfied: aiohttp in c:\\users\\pipihi\\appdata\\local\\packages\\pythonsoftwarefoundation.python.3.12_qbz5n2kfra8p0\\localcache\\local-packages\\python312\\site-packages (from datasets->dspy-ai) (3.9.5)\n",
      "Requirement already satisfied: huggingface-hub>=0.21.2 in c:\\users\\pipihi\\appdata\\local\\packages\\pythonsoftwarefoundation.python.3.12_qbz5n2kfra8p0\\localcache\\local-packages\\python312\\site-packages (from datasets->dspy-ai) (0.23.0)\n",
      "Requirement already satisfied: packaging in c:\\users\\pipihi\\appdata\\local\\packages\\pythonsoftwarefoundation.python.3.12_qbz5n2kfra8p0\\localcache\\local-packages\\python312\\site-packages (from datasets->dspy-ai) (23.2)\n",
      "Requirement already satisfied: pyyaml>=5.1 in c:\\users\\pipihi\\appdata\\local\\packages\\pythonsoftwarefoundation.python.3.12_qbz5n2kfra8p0\\localcache\\local-packages\\python312\\site-packages (from datasets->dspy-ai) (6.0.1)\n",
      "Requirement already satisfied: charset-normalizer<4,>=2 in c:\\users\\pipihi\\appdata\\local\\packages\\pythonsoftwarefoundation.python.3.12_qbz5n2kfra8p0\\localcache\\local-packages\\python312\\site-packages (from requests->dspy-ai) (3.3.2)\n",
      "Requirement already satisfied: idna<4,>=2.5 in c:\\users\\pipihi\\appdata\\local\\packages\\pythonsoftwarefoundation.python.3.12_qbz5n2kfra8p0\\localcache\\local-packages\\python312\\site-packages (from requests->dspy-ai) (3.6)\n",
      "Requirement already satisfied: urllib3<3,>=1.21.1 in c:\\users\\pipihi\\appdata\\local\\packages\\pythonsoftwarefoundation.python.3.12_qbz5n2kfra8p0\\localcache\\local-packages\\python312\\site-packages (from requests->dspy-ai) (2.2.1)\n",
      "Requirement already satisfied: certifi>=2017.4.17 in c:\\users\\pipihi\\appdata\\local\\packages\\pythonsoftwarefoundation.python.3.12_qbz5n2kfra8p0\\localcache\\local-packages\\python312\\site-packages (from requests->dspy-ai) (2024.2.2)\n",
      "Collecting alembic>=1.5.0 (from optuna->dspy-ai)\n",
      "  Downloading alembic-1.13.2-py3-none-any.whl.metadata (7.4 kB)\n",
      "Collecting colorlog (from optuna->dspy-ai)\n",
      "  Downloading colorlog-6.8.2-py3-none-any.whl.metadata (10 kB)\n",
      "Requirement already satisfied: sqlalchemy>=1.3.0 in c:\\users\\pipihi\\appdata\\local\\packages\\pythonsoftwarefoundation.python.3.12_qbz5n2kfra8p0\\localcache\\local-packages\\python312\\site-packages (from optuna->dspy-ai) (2.0.30)\n",
      "Requirement already satisfied: python-dateutil>=2.8.2 in c:\\users\\pipihi\\appdata\\local\\packages\\pythonsoftwarefoundation.python.3.12_qbz5n2kfra8p0\\localcache\\local-packages\\python312\\site-packages (from pandas->dspy-ai) (2.9.0.post0)\n",
      "Requirement already satisfied: pytz>=2020.1 in c:\\users\\pipihi\\appdata\\local\\packages\\pythonsoftwarefoundation.python.3.12_qbz5n2kfra8p0\\localcache\\local-packages\\python312\\site-packages (from pandas->dspy-ai) (2024.1)\n",
      "Requirement already satisfied: tzdata>=2022.7 in c:\\users\\pipihi\\appdata\\local\\packages\\pythonsoftwarefoundation.python.3.12_qbz5n2kfra8p0\\localcache\\local-packages\\python312\\site-packages (from pandas->dspy-ai) (2024.1)\n",
      "Collecting Mako (from alembic>=1.5.0->optuna->dspy-ai)\n",
      "  Downloading Mako-1.3.5-py3-none-any.whl.metadata (2.9 kB)\n",
      "Requirement already satisfied: aiosignal>=1.1.2 in c:\\users\\pipihi\\appdata\\local\\packages\\pythonsoftwarefoundation.python.3.12_qbz5n2kfra8p0\\localcache\\local-packages\\python312\\site-packages (from aiohttp->datasets->dspy-ai) (1.3.1)\n",
      "Requirement already satisfied: attrs>=17.3.0 in c:\\users\\pipihi\\appdata\\local\\packages\\pythonsoftwarefoundation.python.3.12_qbz5n2kfra8p0\\localcache\\local-packages\\python312\\site-packages (from aiohttp->datasets->dspy-ai) (23.2.0)\n",
      "Requirement already satisfied: frozenlist>=1.1.1 in c:\\users\\pipihi\\appdata\\local\\packages\\pythonsoftwarefoundation.python.3.12_qbz5n2kfra8p0\\localcache\\local-packages\\python312\\site-packages (from aiohttp->datasets->dspy-ai) (1.4.1)\n",
      "Requirement already satisfied: multidict<7.0,>=4.5 in c:\\users\\pipihi\\appdata\\local\\packages\\pythonsoftwarefoundation.python.3.12_qbz5n2kfra8p0\\localcache\\local-packages\\python312\\site-packages (from aiohttp->datasets->dspy-ai) (6.0.5)\n",
      "Requirement already satisfied: yarl<2.0,>=1.0 in c:\\users\\pipihi\\appdata\\local\\packages\\pythonsoftwarefoundation.python.3.12_qbz5n2kfra8p0\\localcache\\local-packages\\python312\\site-packages (from aiohttp->datasets->dspy-ai) (1.9.4)\n",
      "Requirement already satisfied: httpcore==1.* in c:\\users\\pipihi\\appdata\\local\\packages\\pythonsoftwarefoundation.python.3.12_qbz5n2kfra8p0\\localcache\\local-packages\\python312\\site-packages (from httpx<1,>=0.23.0->openai<2.0.0,>=0.28.1->dspy-ai) (1.0.5)\n",
      "Requirement already satisfied: h11<0.15,>=0.13 in c:\\users\\pipihi\\appdata\\local\\packages\\pythonsoftwarefoundation.python.3.12_qbz5n2kfra8p0\\localcache\\local-packages\\python312\\site-packages (from httpcore==1.*->httpx<1,>=0.23.0->openai<2.0.0,>=0.28.1->dspy-ai) (0.14.0)\n",
      "Requirement already satisfied: six>=1.5 in c:\\users\\pipihi\\appdata\\local\\packages\\pythonsoftwarefoundation.python.3.12_qbz5n2kfra8p0\\localcache\\local-packages\\python312\\site-packages (from python-dateutil>=2.8.2->pandas->dspy-ai) (1.16.0)\n",
      "Requirement already satisfied: greenlet!=0.4.17 in c:\\users\\pipihi\\appdata\\local\\packages\\pythonsoftwarefoundation.python.3.12_qbz5n2kfra8p0\\localcache\\local-packages\\python312\\site-packages (from sqlalchemy>=1.3.0->optuna->dspy-ai) (3.0.3)\n",
      "Requirement already satisfied: MarkupSafe>=0.9.2 in c:\\users\\pipihi\\appdata\\local\\packages\\pythonsoftwarefoundation.python.3.12_qbz5n2kfra8p0\\localcache\\local-packages\\python312\\site-packages (from Mako->alembic>=1.5.0->optuna->dspy-ai) (2.1.5)\n",
      "Downloading dspy_ai-2.4.13-py3-none-any.whl (280 kB)\n",
      "Using cached backoff-2.2.1-py3-none-any.whl (15 kB)\n",
      "Downloading optuna-3.6.1-py3-none-any.whl (380 kB)\n",
      "Downloading structlog-24.4.0-py3-none-any.whl (67 kB)\n",
      "Downloading alembic-1.13.2-py3-none-any.whl (232 kB)\n",
      "Downloading colorlog-6.8.2-py3-none-any.whl (11 kB)\n",
      "Downloading Mako-1.3.5-py3-none-any.whl (78 kB)\n",
      "Installing collected packages: structlog, Mako, colorlog, backoff, alembic, optuna, dspy-ai\n",
      "Successfully installed Mako-1.3.5 alembic-1.13.2 backoff-2.2.1 colorlog-6.8.2 dspy-ai-2.4.13 optuna-3.6.1 structlog-24.4.0\n"
     ]
    }
   ],
   "source": [
    "%pip install -U dspy-ai -q"
   ]
  },
  {
   "cell_type": "code",
   "execution_count": 2,
   "id": "b2a28d96-fc5a-4ee9-b458-f66cdaeb6db9",
   "metadata": {},
   "outputs": [],
   "source": [
    "import dspy"
   ]
  },
  {
   "cell_type": "markdown",
   "id": "6b6ca9f3-29d6-4c3d-bcf0-742f286d51a5",
   "metadata": {},
   "source": [
    "# Language Model (LM)"
   ]
  },
  {
   "cell_type": "code",
   "execution_count": 61,
   "id": "696ce185-af11-4a93-a08c-273ac2cac717",
   "metadata": {},
   "outputs": [],
   "source": [
    "import os\n",
    "from llama_index.llms.groq import Groq\n",
    "from llama_index.core.llms import ChatMessage\n",
    "\n",
    "api_key = os.getenv(\"GROQ_API_KEY\")\n",
    "\n",
    "# Create the Groq client\n",
    "phi_ollama = dspy.GROQ(model=\"llama-3.1-70b-versatile\", api_key=api_key, temperature=0.1)\n",
    "\n",
    "# its very important to configure dspy with the LM\n",
    "dspy.settings.configure(lm=phi_ollama, max_tokens=4096)"
   ]
  },
  {
   "cell_type": "markdown",
   "id": "c81717b7-95c0-4b2c-a1b3-597ad0199f79",
   "metadata": {},
   "source": [
    "## dspy範例\n",
    "- 範例1. `Predict()`  根據給予的流程來判斷要做的預測，此處上面範例用於分類給定句子情感\n",
    "\n",
    "- 範例2. `ChainOfThought()` 思維鍊，此處使用摘要給定段落/句子的範例\n",
    "https://dspy-docs.vercel.app/api/modules/ChainOfThought"
   ]
  },
  {
   "cell_type": "code",
   "execution_count": 62,
   "id": "4cbf4904-441e-4882-b8dd-3ec2d4f8d950",
   "metadata": {
    "scrolled": true
   },
   "outputs": [
    {
     "data": {
      "text/plain": [
       "Prediction(\n",
       "    sentiment='Sentence: 我真的很想知道LLM是什麼?\\nSentiment: Neutral/Curious'\n",
       ")"
      ]
     },
     "execution_count": 62,
     "metadata": {},
     "output_type": "execute_result"
    }
   ],
   "source": [
    "# 範例1. sentiment classificaiton\n",
    "sentence = \"我真的很想知道LLM是什麼?\"\n",
    "classify = dspy.Predict('sentence -> sentiment')\n",
    "classify(sentence=sentence)"
   ]
  },
  {
   "cell_type": "code",
   "execution_count": 41,
   "id": "cfaa9517",
   "metadata": {},
   "outputs": [
    {
     "data": {
      "text/plain": [
       "Prediction(\n",
       "    summary='Sentence: 你說的對，但是《原神》是由米哈游自主研發的一款全新開放世界冒險遊戲，遊戲發生在一個被稱作「提瓦特」的幻想世界 在這裡，被神選中的人將被授予「神之眼」，導引元素之力。\\nSummary: 《原神》是一款開放世界冒險遊戲，發生在「提瓦特」幻想世界，被神選中的人將被授予「神之眼」。'\n",
       ")"
      ]
     },
     "execution_count": 41,
     "metadata": {},
     "output_type": "execute_result"
    }
   ],
   "source": [
    "# dspy.Predict(\"sentence -> summary\")\n",
    "# 注意，dspy有長度限制\n",
    "sentence = \"\"\"\n",
    "你說的對，但是《原神》是由米哈游自主研發的一款全新開放世界冒險遊戲，遊戲發生在一個被稱作「提瓦特」的幻想世界\n",
    "在這裡，被神選中的人將被授予「神之眼」，導引元素之力。\n",
    "\"\"\"\n",
    "classify = dspy.Predict(\"sentence -> summary\")\n",
    "classify(sentence=sentence)"
   ]
  },
  {
   "cell_type": "code",
   "execution_count": 68,
   "id": "69446cbc-d736-43a1-988c-4573c185a7c3",
   "metadata": {},
   "outputs": [
    {
     "name": "stdout",
     "output_type": "stream",
     "text": [
      "WARNING: Not all input fields were provided to module. Present: []. Missing: ['context', 'question'].\n"
     ]
    },
    {
     "data": {
      "text/plain": [
       "Prediction(\n",
       "    context='Please go ahead and provide the context.',\n",
       "    question='',\n",
       "    answer='Context: A person just received news that their favorite childhood pet had passed away after a long illness.\\n\\nQuestion: How would they likely feel?'\n",
       ")"
      ]
     },
     "execution_count": 68,
     "metadata": {},
     "output_type": "execute_result"
    }
   ],
   "source": [
    "# 另種寫法範例，說明Predict吃的格式，你也可以用這種方式來呼叫並增加資訊，其實即下面會寫的CoT概念\n",
    "# 這寫法等於dspy.Predict(\"context, question -> answer\")\n",
    "class GenerateAnswer(dspy.Signature):\n",
    "    \"\"\"Classify emotion among sadness, joy, love, anger, fear, surprise.\"\"\"\n",
    "    context = dspy.InputField(desc=\"may contain relevant facts\")\n",
    "    question = dspy.InputField()\n",
    "    answer = dspy.OutputField(desc=\"often between 1 and 5 words\")\n",
    "sentence = \"回答非常完整，我想進一步了解LLM能用在甚麼地方?\"  # from dair-ai/emotion\n",
    "\n",
    "classify = dspy.Predict(GenerateAnswer)\n",
    "classify(sentence=sentence)"
   ]
  },
  {
   "cell_type": "code",
   "execution_count": 44,
   "id": "a9e3f5b1-9b16-4ac3-b1c1-660eb215df26",
   "metadata": {},
   "outputs": [
    {
     "name": "stdout",
     "output_type": "stream",
     "text": [
      "Prediction(\n",
      "    rationale='produce the summary. We can start by identifying the main topic of the document, which is the game \"原神\" (Genshin Impact). Then, we can extract the key information about the game, such as its developer, genre, and setting. Finally, we can condense this information into a brief summary.',\n",
      "    summary='《原神》是一款由米哈游自主研發的全新開放世界冒險遊戲，設定在一個被稱作「提瓦特」的幻想世界。'\n",
      ")\n"
     ]
    }
   ],
   "source": [
    "# 範例2. Summarize a given sentence with CoT (ChainOfThought)\n",
    "import textwrap\n",
    "\n",
    "document = \"\"\"\n",
    "你說的對，但是《原神》是由米哈游自主研發的一款全新開放世界冒險遊戲，遊戲發生在一個被稱作「提瓦特」的幻想世界\n",
    "在這裡，被神選中的人將被授予「神之眼」，導引元素之力。\n",
    "\"\"\"\n",
    "summarize = dspy.ChainOfThought('document -> summary')\n",
    "response = summarize(document=document)\n",
    "print(response)\n",
    "#\n",
    "# print(textwrap.fill(response.summary, width=50))"
   ]
  },
  {
   "cell_type": "markdown",
   "id": "3b3e703a-ab74-4837-b1e3-7bbc5dacfa6b",
   "metadata": {},
   "source": [
    "# Modules"
   ]
  },
  {
   "cell_type": "code",
   "execution_count": 46,
   "id": "26b30a51-fb2e-47e0-8b62-adbda31d85d4",
   "metadata": {},
   "outputs": [
    {
     "name": "stdout",
     "output_type": "stream",
     "text": [
      "Sentence: 你要不要吃哈密瓜\n",
      "Sentiment: Neutral\n"
     ]
    }
   ],
   "source": [
    "# 1) Declare with a signature.\n",
    "classify = dspy.Predict('sentence -> sentiment')\n",
    "\n",
    "# 2) Call with input argument(s). \n",
    "sentence = \"你要不要吃哈密瓜\"\n",
    "response = classify(sentence=sentence)\n",
    "\n",
    "# 3) Access the output.\n",
    "print(response.sentiment)"
   ]
  },
  {
   "cell_type": "code",
   "execution_count": 50,
   "id": "bea2f782-f058-45a8-84cf-d3b2189d98d7",
   "metadata": {},
   "outputs": [
    {
     "name": "stdout",
     "output_type": "stream",
     "text": [
      "Prediction(\n",
      "    rationale=\"produce the answer. We need to consider the context and the speaker's intention. The question seems to be asking if the listener wants to eat a watermelon (哈密瓜). To answer this question, we need to consider the listener's preferences, dietary restrictions, and the situation.\",\n",
      "    answer='我要'\n",
      ")\n"
     ]
    }
   ],
   "source": [
    "question = \"你要不要吃哈密瓜\"\n",
    "\n",
    "# 1) Declare with a signature, and pass some config.\n",
    "classify = dspy.ChainOfThought('question -> answer', n=1)\n",
    "\n",
    "# 2) Call with input argument.\n",
    "response = classify(question=question)\n",
    "\n",
    "# 3) Access the outputs.\n",
    "print(response)"
   ]
  },
  {
   "cell_type": "markdown",
   "id": "d0653960-815f-4ed3-9c06-49bea99c7449",
   "metadata": {},
   "source": [
    "### 建立簡易範例問答資訊\n",
    "* Three values: the inputs, the intermediate labels, and the final label.\n",
    "* 10 - 500 samples. More is better"
   ]
  },
  {
   "cell_type": "code",
   "execution_count": 51,
   "id": "8f1db8fc-7ba6-40d6-9f61-6b6ea1cf0c3d",
   "metadata": {},
   "outputs": [],
   "source": [
    "train_set = [\n",
    "    dspy.Example(\n",
    "        question=\"原神!!!\",\n",
    "        answer=\"啟動!!!!\"\n",
    "    ),\n",
    "    dspy.Example(\n",
    "        question=\"那豈不成了跪著要飯的？\",\n",
    "        answer=\"那你要這麼說，買官當縣長還真就是跪著要飯的，就這，多少想跪還沒這門子呢\"\n",
    "    ),\n",
    "    dspy.Example(\n",
    "        question=\"那你是想站著，還是想掙錢啊？\",\n",
    "        answer=\"我是想站著，還把錢掙了！\"\n",
    "    ),        \n",
    "    dspy.Example(\n",
    "        question=\"這個能不能掙錢？\",\n",
    "        answer=\"掙不成。\"\n",
    "    ),                    \n",
    "    dspy.Example(\n",
    "        question=\"（從袖口中甩出一把槍來，拍案，捲袖）：這個能不能掙錢？\",\n",
    "        answer=\"能掙，山裡。\"\n",
    "    ),   \n",
    "    dspy.Example(\n",
    "        question=\"敢問九筒大哥何方神聖？\",\n",
    "        answer=\"能掙，山裡。\"\n",
    "    ),      \n",
    "    dspy.Example(\n",
    "        question=\"這個能不能掙錢？\",\n",
    "        answer=\"掙不成。\"\n",
    "    ),                                    \n",
    "]"
   ]
  },
  {
   "cell_type": "markdown",
   "id": "de98d83e-125e-49f9-864a-9a9fd7a26679",
   "metadata": {},
   "source": [
    "# Metrics"
   ]
  },
  {
   "cell_type": "code",
   "execution_count": 52,
   "id": "5ee24127-2d23-4a79-ab63-a926c5c1f69c",
   "metadata": {},
   "outputs": [],
   "source": [
    "def validate_answer(example, pred):\n",
    "    return example.answer.lower() == pred.answer.lower()"
   ]
  },
  {
   "cell_type": "markdown",
   "id": "e0e2acdd-5b85-4b8c-94ae-54f0c00db71c",
   "metadata": {},
   "source": [
    "# Optimizers"
   ]
  },
  {
   "cell_type": "code",
   "execution_count": 53,
   "id": "d4640e68-319c-46f5-bbdb-f72849b0241c",
   "metadata": {},
   "outputs": [],
   "source": [
    "class qa_module(dspy.Module):\n",
    "    def __init__(self, num_passages=3):\n",
    "        super().__init__()\n",
    "        self.generate_answer = dspy.ChainOfThought(GenerateAnswer)\n",
    "    \n",
    "    def forward(self, question):\n",
    "        prediction = self.generate_answer(question=question)\n",
    "        return dspy.Prediction(answer=prediction.answer)"
   ]
  },
  {
   "cell_type": "markdown",
   "id": "71f9bc9b-7a12-40bf-b744-7e9e6b241449",
   "metadata": {},
   "source": [
    "# A multi-hop QA Example (from DsPy docs)\n",
    "We will do the below steps:\n",
    "1. Load the Language Model and Retrieval Model\n",
    "2. Load the \"question-answer pairs\" `HotPotQA` dataset to compile (train) the DsPy program\n",
    "3. Build the signatures\n",
    "4. Define the pipeline (as a module)\n",
    "5. Define the evaluation metric\n",
    "6. Compile (train) the pipeline with an optimizer (lets use `BootstrapFewShot`)\n",
    "7. Evaluate and compare the Compiled and Uncompiled pipeline"
   ]
  },
  {
   "cell_type": "markdown",
   "id": "b020eb0b-88dc-448e-b399-dd4338bc0327",
   "metadata": {},
   "source": [
    "## Load the LM and RM models"
   ]
  },
  {
   "cell_type": "code",
   "execution_count": 54,
   "id": "ee8e77d6-9c57-4293-9014-8f261b007620",
   "metadata": {},
   "outputs": [],
   "source": [
    "import dspy\n",
    "phi_ollama = dspy.OllamaLocal(model='phi')"
   ]
  },
  {
   "cell_type": "code",
   "execution_count": 55,
   "id": "b7bbbf65-c80c-4b98-b890-68eb794d9db2",
   "metadata": {},
   "outputs": [],
   "source": [
    "colbertv2_wiki17_abstracts = dspy.ColBERTv2(url='http://20.102.90.50:2017/wiki17_abstracts')\n",
    "dspy.settings.configure(lm=phi_ollama, rm=colbertv2_wiki17_abstracts, max_tokens=1024)"
   ]
  },
  {
   "cell_type": "markdown",
   "id": "1609e21d-2cf3-4a83-b76a-d786d9c23079",
   "metadata": {},
   "source": [
    "## Load the Dataset "
   ]
  },
  {
   "cell_type": "code",
   "execution_count": 56,
   "id": "bd6950e0-c8ed-4d3c-a2ac-26eeaf2cb100",
   "metadata": {
    "scrolled": true
   },
   "outputs": [
    {
     "data": {
      "application/vnd.jupyter.widget-view+json": {
       "model_id": "617df5748b6d43fab17acc6452ad1dd2",
       "version_major": 2,
       "version_minor": 0
      },
      "text/plain": [
       "Downloading builder script:   0%|          | 0.00/6.42k [00:00<?, ?B/s]"
      ]
     },
     "metadata": {},
     "output_type": "display_data"
    },
    {
     "data": {
      "application/vnd.jupyter.widget-view+json": {
       "model_id": "57073dda06274a21b6a21316c2bdc8f2",
       "version_major": 2,
       "version_minor": 0
      },
      "text/plain": [
       "Downloading readme:   0%|          | 0.00/9.19k [00:00<?, ?B/s]"
      ]
     },
     "metadata": {},
     "output_type": "display_data"
    },
    {
     "data": {
      "application/vnd.jupyter.widget-view+json": {
       "model_id": "8de2e8f943e24c2883b178ba020f021c",
       "version_major": 2,
       "version_minor": 0
      },
      "text/plain": [
       "Downloading data:   0%|          | 0.00/566M [00:00<?, ?B/s]"
      ]
     },
     "metadata": {},
     "output_type": "display_data"
    },
    {
     "data": {
      "application/vnd.jupyter.widget-view+json": {
       "model_id": "53b60abcec1e4071a7edb9e3a8babd8d",
       "version_major": 2,
       "version_minor": 0
      },
      "text/plain": [
       "Downloading data:   0%|          | 0.00/47.5M [00:00<?, ?B/s]"
      ]
     },
     "metadata": {},
     "output_type": "display_data"
    },
    {
     "data": {
      "application/vnd.jupyter.widget-view+json": {
       "model_id": "0eedff55c1714d15a4f9b5babded4cf6",
       "version_major": 2,
       "version_minor": 0
      },
      "text/plain": [
       "Downloading data:   0%|          | 0.00/46.2M [00:00<?, ?B/s]"
      ]
     },
     "metadata": {},
     "output_type": "display_data"
    },
    {
     "data": {
      "application/vnd.jupyter.widget-view+json": {
       "model_id": "9fac1ef0d6e343e799d8780506c21861",
       "version_major": 2,
       "version_minor": 0
      },
      "text/plain": [
       "Generating train split:   0%|          | 0/90447 [00:00<?, ? examples/s]"
      ]
     },
     "metadata": {},
     "output_type": "display_data"
    },
    {
     "data": {
      "application/vnd.jupyter.widget-view+json": {
       "model_id": "06c275bc54944059a31d54ff098dd07a",
       "version_major": 2,
       "version_minor": 0
      },
      "text/plain": [
       "Generating validation split:   0%|          | 0/7405 [00:00<?, ? examples/s]"
      ]
     },
     "metadata": {},
     "output_type": "display_data"
    },
    {
     "data": {
      "application/vnd.jupyter.widget-view+json": {
       "model_id": "c3e716fd18724180a18efd572043dd25",
       "version_major": 2,
       "version_minor": 0
      },
      "text/plain": [
       "Generating test split:   0%|          | 0/7405 [00:00<?, ? examples/s]"
      ]
     },
     "metadata": {},
     "output_type": "display_data"
    },
    {
     "data": {
      "text/plain": [
       "(20, 10)"
      ]
     },
     "execution_count": 56,
     "metadata": {},
     "output_type": "execute_result"
    }
   ],
   "source": [
    "from dspy.datasets import HotPotQA\n",
    "\n",
    "# Load the dataset.\n",
    "dataset = HotPotQA(train_seed=1, \n",
    "                   train_size=20, \n",
    "                   eval_seed=2023, \n",
    "                   dev_size=10, \n",
    "                   test_size=0)\n",
    "\n",
    "# Tell DSPy that the 'question' field is the input. Any other fields are labels and/or metadata.\n",
    "trainset = [x.with_inputs('question') for x in dataset.train]\n",
    "devset = [x.with_inputs('question') for x in dataset.dev]\n",
    "\n",
    "len(trainset), len(devset)"
   ]
  },
  {
   "cell_type": "markdown",
   "id": "4bb47d95-1005-46de-a893-24d9f0e42624",
   "metadata": {},
   "source": [
    "## Build Signature"
   ]
  },
  {
   "cell_type": "code",
   "execution_count": 22,
   "id": "07cc5b96-3044-4693-afd0-1dbeef1297d6",
   "metadata": {},
   "outputs": [],
   "source": [
    "class GenerateAnswer(dspy.Signature):\n",
    "    \"\"\"Answer questions with short factoid answers.\"\"\"\n",
    "    context = dspy.InputField(desc=\"may contain relevant facts\")\n",
    "    question = dspy.InputField()\n",
    "    answer = dspy.OutputField(desc=\"often between 1 and 5 words\")"
   ]
  },
  {
   "cell_type": "code",
   "execution_count": 23,
   "id": "f6622265-6d2f-410c-9c17-9e810edd1d46",
   "metadata": {},
   "outputs": [],
   "source": [
    "class GenerateSearchQuery(dspy.Signature):\n",
    "    \"\"\"Write a simple search query that will help answer a complex question.\"\"\"\n",
    "    context = dspy.InputField(desc=\"may contain relevant facts\")\n",
    "    question = dspy.InputField()\n",
    "    query = dspy.OutputField()"
   ]
  },
  {
   "cell_type": "markdown",
   "id": "95b32ad7-0e26-4c27-bf3b-8cc8b59a7409",
   "metadata": {},
   "source": [
    "## Define the pipeline"
   ]
  },
  {
   "cell_type": "code",
   "execution_count": 27,
   "id": "95729592-8241-481d-9469-605cd9623a20",
   "metadata": {},
   "outputs": [],
   "source": [
    "from dsp.utils import deduplicate\n",
    "\n",
    "class SimplifiedBaleen(dspy.Module):\n",
    "    def __init__(self, passages_per_hop=3, max_hops=2):\n",
    "        super().__init__()\n",
    "        self.generate_query = [dspy.ChainOfThought(GenerateSearchQuery) for _ in range(max_hops)]\n",
    "        self.retrieve = dspy.Retrieve(k=passages_per_hop)\n",
    "        self.generate_answer = dspy.ChainOfThought(GenerateAnswer)\n",
    "        self.max_hops = max_hops\n",
    "    \n",
    "    def forward(self, question):\n",
    "        context = []\n",
    "        for hop in range(self.max_hops):\n",
    "            query = self.generate_query[hop](context=context, question=question).query\n",
    "            passages = self.retrieve(query).passages\n",
    "            context = deduplicate(context + passages)\n",
    "\n",
    "        pred = self.generate_answer(context=context, question=question)\n",
    "        return dspy.Prediction(context=context, answer=pred.answer)"
   ]
  },
  {
   "cell_type": "markdown",
   "id": "3e0f1349-2f7c-4612-9526-7ef9d2a4bfa1",
   "metadata": {},
   "source": [
    "## Define the evaluation metric "
   ]
  },
  {
   "cell_type": "code",
   "execution_count": 6,
   "id": "c1735c7b-cb3d-44b7-8833-28e56eb072c9",
   "metadata": {},
   "outputs": [],
   "source": [
    "def validate_context_and_answer_and_hops(example, pred, trace=None):\n",
    "    # The predicted answer matches the gold answer.\n",
    "    if not dspy.evaluate.answer_exact_match(example, pred): \n",
    "        return False\n",
    "    # The retrieved context contains the gold answer.\n",
    "    if not dspy.evaluate.answer_passage_match(example, pred): \n",
    "        return False\n",
    "\n",
    "    hops = [example.question] + [outputs.query for *_, outputs in trace if 'query' in outputs]\n",
    "    # None of the generated queries exceeds 100 characters in length)\n",
    "    if max([len(h) for h in hops]) > 100: \n",
    "        return False\n",
    "        \n",
    "    # None of the generated queries is roughly repeated \n",
    "    # (i.e., none is within 0.8 or higher F1 score of earlier queries).\n",
    "    if any(dspy.evaluate.answer_exact_match_str(hops[idx], hops[:idx], frac=0.8) for idx in range(2, len(hops))): \n",
    "        return False\n",
    "        \n",
    "    return True"
   ]
  },
  {
   "cell_type": "markdown",
   "id": "28c86acc-caab-40b4-85aa-d4e32a9ea2d3",
   "metadata": {},
   "source": [
    "## Compile (train) the pipeline"
   ]
  },
  {
   "cell_type": "code",
   "execution_count": null,
   "id": "d36c124b-72f4-4044-a0aa-d52274e49489",
   "metadata": {},
   "outputs": [],
   "source": [
    "%%time\n",
    "\n",
    "from dspy.teleprompt import BootstrapFewShot\n",
    "\n",
    "teleprompter = BootstrapFewShot(metric=validate_context_and_answer_and_hops)\n",
    "\n",
    "compiled_baleen = teleprompter.compile(SimplifiedBaleen(), \n",
    "                                       teacher=SimplifiedBaleen(passages_per_hop=2), \n",
    "                                       trainset=trainset)"
   ]
  },
  {
   "cell_type": "code",
   "execution_count": 32,
   "id": "eceee807-1c7f-4bd5-b24c-cf20559ac723",
   "metadata": {},
   "outputs": [
    {
     "name": "stdout",
     "output_type": "stream",
     "text": [
      "Question: How many storeys are in the castle that David Gregory inherited?\n",
      "Predicted Answer: It is unclear how many storeys the castle that David Gregory inherited had.\n",
      "Retrieved Contexts (truncated): ['David Gregory (physician) | David Gregory (20 December 1625 – 1720) was a Scottish physician and inventor. His surname is sometimes spelt as Gregorie, the original Scottish spelling. He inherited Kinn...', 'Delnadamph Lodge | Delnadamph Lodge is located on the Balmoral Estate about eight miles north of the castle. The lodge and its estate lands were bought by Queen Elizabeth II for a figure believed to b...', 'Aydon | Aydon Castle is a fortified manor house and is a Scheduled Ancient Monument and a Grade I listed building. The manor house was built by Robert de Reymes, a wealthy Suffolk merchant, starting i...', 'Floors Castle | Floors Castle, in Roxburghshire, south-east Scotland, is the seat of the Duke of Roxburghe. Despite its name it is a country house rather than a fortress. It was built in the 1720s by ...', 'Dolwyddelan Castle | Dolwyddelan Castle (Welsh: \"Castell Dolwyddelan\" ) is a Welsh castle located near Dolwyddelan in Conwy County Borough in North Wales. It is thought to have been built in the early...']\n"
     ]
    }
   ],
   "source": [
    "# Ask any question you like to this simple RAG program.\n",
    "my_question = \"How many storeys are in the castle that David Gregory inherited?\"\n",
    "\n",
    "# Get the prediction from uncompiled Baleen\n",
    "uncompiled_baleen = SimplifiedBaleen()\n",
    "pred = uncompiled_baleen(my_question)\n",
    "\n",
    "# Print the contexts and the answer.\n",
    "print(f\"Question: {my_question}\")\n",
    "print(f\"Predicted Answer: {pred.answer}\")\n",
    "print(f\"Retrieved Contexts (truncated): {[c[:200] + '...' for c in pred.context]}\")"
   ]
  },
  {
   "cell_type": "code",
   "execution_count": 39,
   "id": "a5cede92-d08b-4ec7-8db1-9d185a494596",
   "metadata": {},
   "outputs": [],
   "source": [
    "def gold_passages_retrieved(example, pred, trace=None):\n",
    "    gold_titles = set(map(dspy.evaluate.normalize_text, example['gold_titles']))\n",
    "    found_titles = set(map(dspy.evaluate.normalize_text, [c.split(' | ')[0] for c in pred.context]))\n",
    "\n",
    "    return gold_titles.issubset(found_titles)"
   ]
  },
  {
   "cell_type": "markdown",
   "id": "8206e3fc-7501-4d5e-ac7b-6fb711a78a81",
   "metadata": {},
   "source": [
    "## Evaluate the compiled and uncompiled Baleen pipeline"
   ]
  },
  {
   "cell_type": "code",
   "execution_count": null,
   "id": "31f15d98-fd21-48f0-a4da-6dee976470f1",
   "metadata": {},
   "outputs": [],
   "source": [
    "from dspy.evaluate.evaluate import Evaluate\n",
    "# Set up the `evaluate_on_hotpotqa` function.\n",
    "evaluate_on_hotpotqa = Evaluate(devset=devset, \n",
    "                                num_threads=1, \n",
    "                                display_progress=True, \n",
    "                                display_table=5)"
   ]
  },
  {
   "cell_type": "code",
   "execution_count": 41,
   "id": "280a80fe-f30f-4d61-87ca-ae1f9c9a6078",
   "metadata": {
    "scrolled": true
   },
   "outputs": [
    {
     "name": "stdout",
     "output_type": "stream",
     "text": [
      "## Retrieval Score for uncompiled Baleen: 40.0\n"
     ]
    },
    {
     "name": "stderr",
     "output_type": "stream",
     "text": [
      "/Users/ssankar/miniconda3/envs/rag/lib/python3.12/site-packages/dspy/evaluate/evaluate.py:187: FutureWarning: DataFrame.applymap has been deprecated. Use DataFrame.map instead.\n",
      "  df = df.applymap(truncate_cell)\n"
     ]
    }
   ],
   "source": [
    "# Evaluate the uncompiled Baleen pipeline\n",
    "uncompiled_baleen_retrieval_score = evaluate_on_hotpotqa(uncompiled_baleen, \n",
    "                                                         metric=gold_passages_retrieved, \n",
    "                                                         display=False)\n",
    "print(f\"## Retrieval Score for uncompiled Baleen: {uncompiled_baleen_retrieval_score}\")"
   ]
  },
  {
   "cell_type": "code",
   "execution_count": 43,
   "id": "c3abf674-1ff6-4094-904f-892e9e7d018c",
   "metadata": {
    "scrolled": true
   },
   "outputs": [
    {
     "name": "stdout",
     "output_type": "stream",
     "text": [
      "Error for example in dev set: \t\t unsupported operand type(s) for +=: 'int' and 'NoneType'\n",
      "## Retrieval Score for compiled Baleen: 30.0\n"
     ]
    },
    {
     "name": "stderr",
     "output_type": "stream",
     "text": [
      "/Users/ssankar/miniconda3/envs/rag/lib/python3.12/site-packages/dspy/evaluate/evaluate.py:187: FutureWarning: DataFrame.applymap has been deprecated. Use DataFrame.map instead.\n",
      "  df = df.applymap(truncate_cell)\n"
     ]
    }
   ],
   "source": [
    "# Evaluate the compiled Baleen pipeline\n",
    "compiled_baleen_retrieval_score = evaluate_on_hotpotqa(compiled_baleen, \n",
    "                                                       metric=gold_passages_retrieved,\n",
    "                                                      display=False)\n",
    "print(f\"## Retrieval Score for compiled Baleen: {compiled_baleen_retrieval_score}\")"
   ]
  },
  {
   "cell_type": "markdown",
   "id": "72126b00-05d3-4df2-acf7-877d7b2f79d0",
   "metadata": {},
   "source": [
    "## Save the compiled pipeline, if needed "
   ]
  },
  {
   "cell_type": "code",
   "execution_count": null,
   "id": "9be31165-0c30-4eee-b227-edb830b48238",
   "metadata": {},
   "outputs": [],
   "source": [
    "compiled_baleen.save(\"./dspy_models\")\n",
    "compiled_baleen = SimplifiedBaleen().load(\"./dspy_models\")"
   ]
  },
  {
   "cell_type": "markdown",
   "id": "190940e2",
   "metadata": {},
   "source": [
    "https://github.com/ai-bites/generative-ai-course/blob/main/dspy_demo.ipynb"
   ]
  }
 ],
 "metadata": {
  "kernelspec": {
   "display_name": "Python 3 (ipykernel)",
   "language": "python",
   "name": "python3"
  },
  "language_info": {
   "codemirror_mode": {
    "name": "ipython",
    "version": 3
   },
   "file_extension": ".py",
   "mimetype": "text/x-python",
   "name": "python",
   "nbconvert_exporter": "python",
   "pygments_lexer": "ipython3",
   "version": "3.12.5"
  }
 },
 "nbformat": 4,
 "nbformat_minor": 5
}
