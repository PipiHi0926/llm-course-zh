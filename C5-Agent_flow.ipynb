{
 "cells": [
  {
   "cell_type": "markdown",
   "metadata": {},
   "source": [
    "<p style=\"font-size:small; color:gray;\"> Author: 鄭永誠, Year: 2024 </p>\n",
    "\n",
    "# 使用LangGraph實踐LLM Agent流程\n",
    "----------\n",
    "\n",
    "## Agents 定義\n",
    "- 在LLM中，Agent泛指一種工具或實體，它能夠自動執行特定的任務或功能\n",
    "\n",
    "- 這些代理通常被設計來與外部數據源、API或其他工具交互，以增強LLM的功能\n",
    "\n",
    "- 通過結合外部工具或程式碼，Agent可以幫助LLM進行更複雜的推理和決策過程  \n",
    "\n",
    "(資料來源 https://chat.openai.com)\n",
    "\n",
    "## LangChain Agent範例\n",
    "- 可參考[官網](https://python.langchain.com/v0.1/docs/modules/agents/)自行嘗試實作\n",
    "\n",
    "- [Agent Types](https://python.langchain.com/v0.1/docs/modules/agents/agent_types/)\n",
    "\n",
    "\n",
    "\n",
    "\n",
    "## LangChain內建工具\n",
    "- LangChain裡就有相關工具可以使用，下面程式舉幾個範例\n",
    "\n",
    "- ```from langchain.agents import load_tools```  \n",
    "\n",
    "可以直接使用整合好的工具，如```\"llm-math\"```, ```\"wikipedia\"```\n",
    "\n",
    "- ```from langchain.tools.python.tool import PythonREPLTool```  \n",
    "\n",
    "提供了一個命令行界面，允許用戶逐行輸入 Python 代碼並立即執行\n",
    "\n",
    "- 也能用[官方](https://python.langchain.com/v0.1/docs/modules/tools/)的方式去調用\n",
    "\n"
   ]
  },
  {
   "cell_type": "code",
   "execution_count": 20,
   "metadata": {},
   "outputs": [
    {
     "name": "stdout",
     "output_type": "stream",
     "text": [
      "Note: you may need to restart the kernel to use updated packages.\n"
     ]
    },
    {
     "name": "stderr",
     "output_type": "stream",
     "text": [
      "\n",
      "[notice] A new release of pip is available: 24.0 -> 24.2\n",
      "[notice] To update, run: C:\\Users\\PipiHi\\AppData\\Local\\Microsoft\\WindowsApps\\PythonSoftwareFoundation.Python.3.12_qbz5n2kfra8p0\\python.exe -m pip install --upgrade pip\n"
     ]
    },
    {
     "name": "stdout",
     "output_type": "stream",
     "text": [
      "Note: you may need to restart the kernel to use updated packages.\n"
     ]
    },
    {
     "name": "stderr",
     "output_type": "stream",
     "text": [
      "\n",
      "[notice] A new release of pip is available: 24.0 -> 24.2\n",
      "[notice] To update, run: C:\\Users\\PipiHi\\AppData\\Local\\Microsoft\\WindowsApps\\PythonSoftwareFoundation.Python.3.12_qbz5n2kfra8p0\\python.exe -m pip install --upgrade pip\n"
     ]
    }
   ],
   "source": [
    "\"\"\" numexpr, wikipedia 是我要下面用 \"llm-math\", \"wikipedia\" 工具時所需的前置套件\"\"\"\n",
    "%pip install numexpr -q\n",
    "%pip install wikipedia -q"
   ]
  },
  {
   "cell_type": "code",
   "execution_count": 1,
   "metadata": {},
   "outputs": [
    {
     "name": "stderr",
     "output_type": "stream",
     "text": [
      "C:\\Users\\PipiHi\\AppData\\Local\\Packages\\PythonSoftwareFoundation.Python.3.12_qbz5n2kfra8p0\\LocalCache\\local-packages\\Python312\\site-packages\\langchain_core\\_api\\deprecation.py:139: LangChainDeprecationWarning: The function `initialize_agent` was deprecated in LangChain 0.1.0 and will be removed in 0.3.0. Use Use new agent constructor methods like create_react_agent, create_json_agent, create_structured_chat_agent, etc. instead.\n",
      "  warn_deprecated(\n"
     ]
    }
   ],
   "source": [
    "\"\"\" \n",
    "這裡是基本Agent調用 和 langchain load_tools 操作範例\n",
    "注意，這邊是直接拿 langchain.agents 的預設提供功能去做操作，\n",
    "他中間流程執行效率可能不是最佳，但是對於初學者來說是最簡單的方式實踐，\n",
    "這邊只是讓大家看到最簡單的操作方式，實際上可以根據需求去做更多的調整\n",
    "\"\"\"\n",
    "\n",
    "import os\n",
    "\n",
    "from langchain.agents import load_tools, initialize_agent\n",
    "from langchain.agents import AgentType\n",
    "from langchain_groq import ChatGroq\n",
    "\n",
    "# Create the Groq client\n",
    "api_key = os.getenv(\"GROQ_API_KEY\")\n",
    "\n",
    "llm = ChatGroq(\n",
    "    model=\"llama-3.1-70b-versatile\",\n",
    "    temperature=0.1, # 我故意調低點，讓回答更精確不要太創意\n",
    "    max_tokens=None,\n",
    "    timeout=None,\n",
    "    max_retries=3,\n",
    "    api_key=api_key,\n",
    ")\n",
    "\n",
    "# 用langchain整合好的load_tools載入工具\n",
    "tools = load_tools([\"llm-math\",\"wikipedia\"], llm=llm)\n",
    "\n",
    "# 創建一個Agent，並初始化及定義可使用的工具\n",
    "agent = initialize_agent(\n",
    "    tools, # 使用的工具\n",
    "    llm, # 使用的模型\n",
    "    agent=AgentType.CHAT_ZERO_SHOT_REACT_DESCRIPTION, # 主要用於聊天場景的一種Agent Type，可參考文件選擇\n",
    "    handle_parsing_errors=True,\n",
    "    verbose = True\n",
    ")"
   ]
  },
  {
   "cell_type": "code",
   "execution_count": 3,
   "metadata": {},
   "outputs": [
    {
     "name": "stdout",
     "output_type": "stream",
     "text": [
      "\n",
      "\n",
      "\u001b[1m> Entering new AgentExecutor chain...\u001b[0m\n",
      "\u001b[32;1m\u001b[1;3mQuestion: 1乘2乘3...到乘10是多少?\n",
      "Thought: 这是一个阶乘问题，我需要使用计算器来计算结果。\n",
      "Action:\n",
      "```\n",
      "{\n",
      "  \"action\": \"Calculator\",\n",
      "  \"action_input\": \"10!\"\n",
      "}\n",
      "```\n",
      "\u001b[0m\n",
      "Observation: \u001b[36;1m\u001b[1;3mAnswer: 3628800\u001b[0m\n",
      "Thought:\u001b[32;1m\u001b[1;3mThought: 我已经得到了结果，现在可以直接回答问题了。\n",
      "Final Answer: 3628800\u001b[0m\n",
      "\n",
      "\u001b[1m> Finished chain.\u001b[0m\n"
     ]
    },
    {
     "data": {
      "text/plain": [
       "{'input': '1乘2乘3...到乘10是多少?', 'output': '3628800'}"
      ]
     },
     "execution_count": 3,
     "metadata": {},
     "output_type": "execute_result"
    }
   ],
   "source": [
    "# 範例一，問一個數學問題；理論上你可以看到他調用了數學工具去處理還有詳細執行流程\n",
    "agent(f\"1乘2乘3...到乘10是多少?\")"
   ]
  },
  {
   "cell_type": "code",
   "execution_count": 5,
   "metadata": {},
   "outputs": [
    {
     "name": "stdout",
     "output_type": "stream",
     "text": [
      "\n",
      "\n",
      "\u001b[1m> Entering new AgentExecutor chain...\u001b[0m\n",
      "\u001b[32;1m\u001b[1;3mThought: To find the number of votes Obama received in the election, I need to look up the information on Wikipedia.\n",
      "\n",
      "Action:\n",
      "```\n",
      "{\n",
      "  \"action\": \"wikipedia\",\n",
      "  \"action_input\": \"Barack Obama presidential election, 2008\"\n",
      "}\n",
      "```\n",
      "\u001b[0m\n",
      "Observation: \u001b[33;1m\u001b[1;3mPage: Barack Obama 2008 presidential campaign\n",
      "Summary: Barack Obama, then junior United States senator from Illinois, announced his candidacy for president of the United States on February 10, 2007, in Springfield, Illinois. After winning a majority of delegates in the Democratic primaries of 2008, on August 23, leading up to the convention, the campaign announced that Senator Joe Biden of Delaware would be the vice presidential nominee. At the 2008 Democratic National Convention on August 27, Barack Obama was formally selected as the Democratic Party nominee for president of the United States in 2008. He was the first African American in history to be nominated on a major party ticket.  On November 4, 2008, Obama defeated the Republican nominee, Senator John McCain of Arizona, making him the president-elect and the first African American elected president.\n",
      "Obama was the third sitting U.S. senator, after Warren G. Harding and John F. Kennedy, to be elected president. Upon the vote of the Electoral College on December 15, 2008, and the subsequent certification thereof by a Joint Session of the United States Congress on January 8, 2009, Barack Obama was elected as president and Joe Biden as vice president, with 365 of 538 electors. He also became the first president to not be born in the contiguous United States, as he was born in Hawaii.\n",
      "Many pundits have considered Obama's 2008 campaign to be one of the greatest political underdog stories in U.S. history. The campaign is credited for shifting the status quo of the Democratic platform, especially on issues such as healthcare reform. Prior to 2007, Obama was largely unknown on a national level outside of his Senate constituency in Illinois. His primary victory over Hillary Clinton is considered one of the greatest political upsets of all time, as Clinton had an early lead in the polls and was expected to secure the nomination early on. In the general election, overwhelming backing by two-thirds of voters aged 18-29 and minority voters (66% of Hispanic voters and 95% of Black voters) were considered the most crucial demographic victories for Obama. Analysts also praised his campaign's effective use of the Internet in general and social media in particular, and considered their utilization of both a crucial factor in Obama's victory.\n",
      "\n",
      "Page: Barack Obama 2008 presidential election victory speech\n",
      "Summary: Following his victory in the 2008 United States presidential election, then-President-elect Barack Obama gave his victory speech at Grant Park in his home city of Chicago, on November 4, 2008, before an estimated crowd of 240,000. Viewed on television and the Internet by millions of people around the globe, Obama's speech focused on the major issues facing the United States and the world, all echoed through his campaign slogan of change. He also mentioned his maternal grandmother Madelyn Dunham, who had died just two nights earlier.\n",
      "\n",
      "Page: 2008 Democratic Party vice presidential candidate selection\n",
      "Summary: This article lists potential candidates for the Democratic nomination for Vice President of the United States in the 2008 presidential election. After Illinois Senator Barack Obama became the Democratic Party's presumptive presidential nominee on June 3, 2008, Obama formed a small committee, made up of James A. Johnson (who stepped down after one week), Eric Holder and Caroline Kennedy, to help him select a running mate. Veteran Democratic lawyer and advisor James \"Jim\" Hamilton, of the firm Morgan, Lewis & Bockius, later replaced Johnson in vetting candidates.\n",
      "Obama strongly considered Senator Evan Bayh and governors Tim Kaine and Kathleen Sebelius, but Obama ultimately decided to select Delaware Senator Joe Biden as his running mate. Obama would later name Sebelius as his Secretary of Health and Human Services, while Kaine would ultimately become Hillary Clinton's running mate in 2016. The Obama–Biden ticket would go on to defeat the Republican tickets of McCain–Palin in 2008 \u001b[0m\n",
      "Thought:\u001b[32;1m\u001b[1;3mThought: The information on the number of votes Obama received in the election is not available in the previous search results. I need to try a different search query to find the information.\n",
      "\n",
      "Action:\n",
      "```\n",
      "{\n",
      "  \"action\": \"wikipedia\",\n",
      "  \"action_input\": \"United States presidential election, 2008\"\n",
      "}\n",
      "```\n",
      "\n",
      "\u001b[0m\n",
      "Observation: \u001b[33;1m\u001b[1;3mPage: 2008 United States presidential election\n",
      "Summary: The 2008 United States presidential election was the 56th quadrennial presidential election, held on November 4, 2008. The Democratic ticket of Barack Obama, the junior senator from Illinois, and Joe Biden, the senior senator from Delaware, defeated the Republican ticket of John McCain, the senior senator from Arizona, and Sarah Palin, the governor of Alaska. Obama became the first African American to be elected to the presidency, as well as being only the third sitting United States senator elected president, joining Warren G. Harding and John F. Kennedy. Meanwhile, this was only the second successful all-senator ticket since the 1960 election and is the only election where both major party nominees were sitting senators.  This was the first election since 1952 in which neither the incumbent president nor vice president was on the ballot, as well as the first election since 1928 in which neither ran for the nomination.\n",
      "Incumbent Republican President George W. Bush was ineligible to pursue a third term due to the term limits established by the Twenty-second Amendment. McCain secured the Republican nomination by March 2008, defeating former governors Mitt Romney, Mike Huckabee, and other challengers. The Democratic primaries were marked by a sharp contest between Obama and the initial front-runner, former first lady and Senator Hillary Clinton, as well as other challengers that dropped out before most of the primaries were held, including Senators John Edwards and Obama's future running mate, Joe Biden. Clinton's victory in the New Hampshire primary made her the first woman to win a major party's presidential primary. After a long primary season, Obama secured the Democratic nomination in June 2008.\n",
      "Early campaigning focused heavily on the Iraq War and Bush's unpopularity. McCain supported the war, as well as a troop surge that had begun in 2007, while Obama strongly opposed the war. Bush endorsed McCain, but the two did not campaign together, and Bush did not appear in person at the 2008 Republican National Convention. Obama campaigned on the theme that \"Washington must change,\" while McCain emphasized his experience. The campaign was strongly affected by the onset of a major financial crisis, which peaked in September 2008. McCain's decision to suspend his campaign during the height of the financial crisis backfired as voters viewed his response as erratic.\n",
      "Obama won a decisive victory over McCain, winning the Electoral College and the popular vote by a sizable margin, including states that had not voted for the Democratic presidential candidate since 1976 (North Carolina) and 1964 (Indiana, Virginia, and Nebraska's 2nd congressional district). Obama received the largest share of the popular vote won by a Democrat since Lyndon B. Johnson in 1964 and was the first Democrat to win an outright majority of the popular vote since Jimmy Carter in 1976. Obama flipped nine states that had voted Republican in 2004: Colorado, Florida, Indiana, Iowa, Nevada, New Mexico, North Carolina, Ohio, and Virginia, as well as Nebraska's 2nd congressional district. This also marked the last time a Democrat carried Indiana and North Carolina in a presidential election.\n",
      "\n",
      "\n",
      "\n",
      "Page: 2020 United States presidential election\n",
      "Summary: The 2020 United States presidential election was the 59th quadrennial presidential election, held on Tuesday, November 3, 2020. The Democratic ticket of former vice president Joe Biden and the junior U.S. senator from California Kamala Harris defeated the incumbent Republican president, Donald Trump, and vice president, Mike Pence. The election took place against the backdrop of the global COVID-19 pandemic and related recession. The election saw the highest voter turnout by percentage since 1900, with each of the two main tickets receiving more than 74 million votes, surpassing Barack Obama's record of 69.5 million votes from 2008. Biden received more than 81 million vo\u001b[0m\n",
      "Thought:\u001b[32;1m\u001b[1;3mThought: I now know the final answer.\n",
      "\n",
      "Final Answer: 歐巴馬獲得了69.5 million張選票。\u001b[0m\n",
      "\n",
      "\u001b[1m> Finished chain.\u001b[0m\n"
     ]
    },
    {
     "data": {
      "text/plain": [
       "{'input': '歐巴馬的當選票數是多少?', 'output': '歐巴馬獲得了69.5 million張選票。'}"
      ]
     },
     "execution_count": 5,
     "metadata": {},
     "output_type": "execute_result"
    }
   ],
   "source": [
    "# 範例二，問一個事件問題；理論上你可以看到他調用了wikipedia去處理\n",
    "agent(\"歐巴馬的當選票數是多少?\")\n"
   ]
  },
  {
   "cell_type": "markdown",
   "metadata": {},
   "source": [
    "------------\n",
    "## # LangGraph\n",
    "- LangGraph 是一套建構於LangChain 框架之上的開發套件，實踐Agent流程的套件\n",
    "\n",
    "- 可與LangChain 現有的鏈、各模組工具等無縫銜接\n",
    "\n",
    "- 實踐多流程關聯性定義去部署應用 "
   ]
  },
  {
   "cell_type": "code",
   "execution_count": 2,
   "metadata": {},
   "outputs": [
    {
     "name": "stdout",
     "output_type": "stream",
     "text": [
      "Note: you may need to restart the kernel to use updated packages.\n"
     ]
    },
    {
     "name": "stderr",
     "output_type": "stream",
     "text": [
      "\n",
      "[notice] A new release of pip is available: 24.0 -> 24.2\n",
      "[notice] To update, run: C:\\Users\\PipiHi\\AppData\\Local\\Microsoft\\WindowsApps\\PythonSoftwareFoundation.Python.3.12_qbz5n2kfra8p0\\python.exe -m pip install --upgrade pip\n"
     ]
    },
    {
     "name": "stdout",
     "output_type": "stream",
     "text": [
      "Note: you may need to restart the kernel to use updated packages.\n"
     ]
    },
    {
     "name": "stderr",
     "output_type": "stream",
     "text": [
      "\n",
      "[notice] A new release of pip is available: 24.0 -> 24.2\n",
      "[notice] To update, run: C:\\Users\\PipiHi\\AppData\\Local\\Microsoft\\WindowsApps\\PythonSoftwareFoundation.Python.3.12_qbz5n2kfra8p0\\python.exe -m pip install --upgrade pip\n"
     ]
    }
   ],
   "source": [
    "\"\"\" 下載langgraph套件 \"\"\"\n",
    "%pip install -U langgraph -q\n",
    "%pip install langchain-anthropic -q"
   ]
  },
  {
   "cell_type": "markdown",
   "metadata": {},
   "source": [
    "### 最單純流程、記憶對話流程範例"
   ]
  },
  {
   "cell_type": "code",
   "execution_count": 25,
   "metadata": {},
   "outputs": [],
   "source": [
    "import os\n",
    "\n",
    "from typing import Annotated, Literal, TypedDict\n",
    "\n",
    "from langchain_core.messages import HumanMessage\n",
    "from langchain_anthropic import ChatAnthropic\n",
    "from langchain_core.tools import tool\n",
    "from langgraph.checkpoint.memory import MemorySaver\n",
    "from langgraph.graph import END, StateGraph, MessagesState\n",
    "from langgraph.prebuilt import ToolNode\n",
    "from langchain_groq import ChatGroq\n",
    "import textwrap\n",
    "\n",
    "# 這邊加個範例示意，你也可以定義各種工具函數讓LLM使用（這邊只是示意）\n",
    "@tool\n",
    "def multiply(a: int, b: int) -> int:\n",
    "    \"\"\"乘法運算兩個數字。\"\"\"\n",
    "    return a * b\n",
    "\n",
    "math_tool = load_tools([\"llm-math\",\"wikipedia\"], llm=llm)\n",
    "wiki_tools = load_tools([\"wikipedia\"], llm=llm)\n",
    "mult_tool = multiply # 僅示意，你可以自己定義更多的工具函數\n",
    "\n",
    "\n",
    "# 定義工具節點，這邊因為是範例只加上math_tool\n",
    "tool_node = ToolNode(math_tool)\n",
    "\n",
    "# 定義 LLM 模型，一樣使用 Groq 實踐操作\n",
    "model = ChatGroq(temperature=0, groq_api_key=os.getenv('GROQ_API_KEY'), model_name=\"llama-3.1-70b-versatile\")\n",
    "\n",
    "# 定義決定是否繼續的函數\n",
    "def should_continue(state: MessagesState) -> Literal[\"tools\", END]:\n",
    "    messages = state['messages']\n",
    "    last_message = messages[-1]\n",
    "\n",
    "    # 如果 LLM 調用了工具，則route to \"tools\" 節點\n",
    "    if last_message.tool_calls:\n",
    "        return \"tools\"\n",
    "    \n",
    "    # Otherwise, we stop (reply to the user)\n",
    "    return END\n",
    "\n",
    "\n",
    "# 定義調用模型的函數\n",
    "def call_model(state: MessagesState):\n",
    "\n",
    "    messages = state['messages']\n",
    "    response = model.invoke(messages)\n",
    "\n",
    "    # 注意這邊 response 是 return a list, 因為之後會增加資訊到已有的訊息中\n",
    "    return {\"messages\": [response]}\n",
    "\n",
    "\n",
    "# 定義一個新的workflow\n",
    "workflow = StateGraph(MessagesState)\n",
    "\n",
    "# 定義我們的兩個節點(agent, tools)\n",
    "workflow.add_node(\"agent\", call_model)\n",
    "workflow.add_node(\"tools\", tool_node)\n",
    "\n",
    "# 設定開始節點為 `agent`\n",
    "workflow.set_entry_point(\"agent\")\n",
    "\n",
    "# 添加一條條件邊，同字義，如果滿足條件則走向下一個節點\n",
    "workflow.add_conditional_edges(\n",
    "    # source填入起點節點\n",
    "    source=\"agent\",\n",
    "    # path填入一個function，用來決定下一步給誰，可看我上面should_continue設定，如果使用工具就走tools節點，沒的話就結束\n",
    "    path=should_continue,\n",
    ")\n",
    "\n",
    "# 現在我們添加一條普通邊從 `tools` 到 `agent`，普通邊代表無特殊條件的基本順序流程\n",
    "workflow.add_edge(\"tools\", 'agent')\n",
    "\n",
    "# 初始化記憶體，你可以理解為當個有記憶的 graph, 記錄多使用者的資料\n",
    "checkpointer = MemorySaver()\n",
    "\n",
    "# Compile 成 LangChain Runnable，這裡假設有使用到checkpointer\n",
    "app = workflow.compile(checkpointer=checkpointer)"
   ]
  },
  {
   "cell_type": "code",
   "execution_count": 26,
   "metadata": {},
   "outputs": [
    {
     "data": {
      "text/plain": [
       "'還是你們小看我了'"
      ]
     },
     "execution_count": 26,
     "metadata": {},
     "output_type": "execute_result"
    }
   ],
   "source": [
    "\"\"\" 執行，\"thread_id\"就是代表紀錄檔，可自定義 \"\"\"\n",
    "\n",
    "# 執行問題\n",
    "final_state = app.invoke(\n",
    "    {\"messages\": [HumanMessage(content=\"柯南的經典台詞是什麼?\")]},\n",
    "    config={\"configurable\": {\"thread_id\": \"鄭永誠的紀錄檔\"}}\n",
    ")\n",
    "final_state[\"messages\"][-1].content"
   ]
  },
  {
   "cell_type": "code",
   "execution_count": 27,
   "metadata": {},
   "outputs": [
    {
     "data": {
      "text/plain": [
       "'還有\"真相只有一个\"'"
      ]
     },
     "execution_count": 27,
     "metadata": {},
     "output_type": "execute_result"
    }
   ],
   "source": [
    "\"\"\" 使用同個\"thread_id\"就是代表同個紀錄檔，所以他會記得上次的對話 \"\"\"\n",
    "\n",
    "# 執行問題\n",
    "final_state = app.invoke(\n",
    "    {\"messages\": [HumanMessage(content=\"還有呢?\")]},\n",
    "    config={\"configurable\": {\"thread_id\": \"鄭永誠的紀錄檔\"}}\n",
    ")\n",
    "final_state[\"messages\"][-1].content"
   ]
  }
 ],
 "metadata": {
  "kernelspec": {
   "display_name": "Python 3",
   "language": "python",
   "name": "python3"
  },
  "language_info": {
   "codemirror_mode": {
    "name": "ipython",
    "version": 3
   },
   "file_extension": ".py",
   "mimetype": "text/x-python",
   "name": "python",
   "nbconvert_exporter": "python",
   "pygments_lexer": "ipython3",
   "version": "3.12.4"
  }
 },
 "nbformat": 4,
 "nbformat_minor": 2
}
